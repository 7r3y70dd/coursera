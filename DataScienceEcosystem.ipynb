{
 "cells": [
  {
   "cell_type": "markdown",
   "id": "d6ec6458-5932-4be8-b3f6-3cac18814b3a",
   "metadata": {},
   "source": []
  },
  {
   "cell_type": "markdown",
   "id": "929f64de-2d5c-42f1-80c2-18c1ff5337bf",
   "metadata": {},
   "source": [
    "# Data Science Tools and Ecosystems"
   ]
  },
  {
   "cell_type": "markdown",
   "id": "982f1c37-455a-4590-b553-829a8429ffa3",
   "metadata": {},
   "source": [
    "This notebook will describe Data Science tools and Ecosystems"
   ]
  },
  {
   "cell_type": "markdown",
   "id": "e3df9363-41f4-47da-b30e-277d680c2e91",
   "metadata": {},
   "source": [
    "Some of the more popular languages are \n",
    "1. Python\n",
    "2. Java\n",
    "3. C++"
   ]
  },
  {
   "cell_type": "markdown",
   "id": "2a532c5d-08af-4c06-b96a-766ea9500cd1",
   "metadata": {},
   "source": [
    "Some of the more commonly used libraries include\n",
    "1. numpy\n",
    "2. ggplot\n",
    "3. Pandas"
   ]
  },
  {
   "cell_type": "markdown",
   "id": "805ccae4-889e-4d51-8768-b89c8fe56623",
   "metadata": {},
   "source": [
    "| Data Science Tools |\n",
    "| ------------------ |\n",
    "| Tensor Flow |\n",
    "| ggplot |\n",
    "| R Studio |"
   ]
  },
  {
   "cell_type": "markdown",
   "id": "78070eb7-f76c-4409-b89b-03f075edff33",
   "metadata": {},
   "source": [
    "### Below are a few examples of evaluating arithmetic expressions in Python"
   ]
  },
  {
   "cell_type": "code",
   "execution_count": 8,
   "id": "852a127f-cbca-4e43-a842-cda4666b290e",
   "metadata": {},
   "outputs": [
    {
     "data": {
      "text/plain": [
       "17"
      ]
     },
     "execution_count": 8,
     "metadata": {},
     "output_type": "execute_result"
    }
   ],
   "source": [
    "# This a simple arithmetic expression to mutiply then add integers\n",
    "(3*4)+5"
   ]
  },
  {
   "cell_type": "code",
   "execution_count": 9,
   "id": "819010a4-b9ec-4d0f-a686-c002fd9a4ab0",
   "metadata": {},
   "outputs": [
    {
     "data": {
      "text/plain": [
       "3.3333333333333335"
      ]
     },
     "execution_count": 9,
     "metadata": {},
     "output_type": "execute_result"
    }
   ],
   "source": [
    "# This will convert 200 minutes to hours by diving by 60\n",
    "200/60"
   ]
  },
  {
   "cell_type": "markdown",
   "id": "f2c7afa3-5b72-43c6-9a2d-535b34cc0a67",
   "metadata": {},
   "source": [
    "**Objectives:** \n",
    "- Python\n",
    "- Markdown\n",
    "- Rstudio\n",
    "- ggplot\n",
    "- Github"
   ]
  },
  {
   "cell_type": "markdown",
   "id": "b5999af5-a6ba-42fd-8537-f2a022f3fda4",
   "metadata": {},
   "source": [
    "## Author\n",
    "James Todd"
   ]
  },
  {
   "cell_type": "code",
   "execution_count": null,
   "id": "7bd8ce7c-d027-441e-a405-d90b73d873f8",
   "metadata": {},
   "outputs": [],
   "source": []
  }
 ],
 "metadata": {
  "kernelspec": {
   "display_name": "Python 3 (ipykernel)",
   "language": "python",
   "name": "python3"
  },
  "language_info": {
   "codemirror_mode": {
    "name": "ipython",
    "version": 3
   },
   "file_extension": ".py",
   "mimetype": "text/x-python",
   "name": "python",
   "nbconvert_exporter": "python",
   "pygments_lexer": "ipython3",
   "version": "3.12.3"
  }
 },
 "nbformat": 4,
 "nbformat_minor": 5
}
